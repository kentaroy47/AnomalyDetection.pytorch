{
 "cells": [
  {
   "cell_type": "code",
   "execution_count": 5,
   "metadata": {},
   "outputs": [],
   "source": [
    "import os\n",
    "import numpy as np\n",
    "import wfdb\n",
    "import matplotlib.pylab as plt"
   ]
  },
  {
   "cell_type": "code",
   "execution_count": 6,
   "metadata": {},
   "outputs": [],
   "source": [
    "# setting\n",
    "window_size=720  # 2 seconds\n",
    "sample_rate = 360  # 360 Hz\n",
    " \n",
    "# list\n",
    "train_record_list = [\n",
    "        '101', '106', '108', '109', '112', '115', '116', '118', '119', '122',\n",
    "        '124', '201', '203', '205', '207', '208', '209', '215', '220', '223', '230'\n",
    "        ]\n",
    "test_record_list = [\n",
    "        '100', '103', '105', '111', '113', '117', '121', '123', '200', '210',\n",
    "        '212', '213', '214', '219', '221', '222', '228', '231', '232', '233', '234'\n",
    "        ]\n",
    " \n",
    "# annotation\n",
    "labels = ['N', 'V']\n",
    "valid_symbols = ['N', 'L', 'R', 'e', 'j', 'V', 'E']\n",
    "label_map = {'N': 'N', 'L': 'N', 'R': 'N', 'e': 'N', 'j': 'N','V': 'V', 'E': 'V'}\n",
    " \n",
    "def _load_data(base_record, channel=0):\n",
    "    record_name = os.path.join(download_dir, str(base_record))\n",
    "    # read dat file\n",
    "    signals, fields = wfdb.rdsamp(record_name)\n",
    "    assert fields['fs'] == sample_rate\n",
    "    # read annotation file\n",
    "    annotation = wfdb.rdann(record_name, 'atr')\n",
    "    symbols = annotation.symbol\n",
    "    positions = annotation.sample\n",
    "    return signals[:, channel], symbols, positions\n",
    " \n",
    "def _segment_data(signal, symbols, positions):\n",
    "    X, y = [], []\n",
    "    sig_len = len(signal)\n",
    "    for i in range(len(symbols)):\n",
    "        start = positions[i] - window_size // 2\n",
    "        end = positions[i] + window_size // 2\n",
    "        if symbols[i] in valid_symbols and start >= 0 and end <= sig_len:\n",
    "            segment = signal[start:end]\n",
    "            assert len(segment) == window_size, \"Invalid length\"\n",
    "            X.append(segment)\n",
    "            y.append(labels.index(label_map[symbols[i]]))\n",
    "    return np.array(X), np.array(y)\n",
    " \n",
    "def preprocess_dataset(record_list, mode, dataset_root): \n",
    "    Xs, ys = [], []\n",
    "    save_dir = os.path.join(dataset_root) \n",
    "    for i in range(len(record_list)):\n",
    "        signal, symbols, positions = _load_data(record_list[i])\n",
    "        signal = (signal - np.mean(signal)) / np.std(signal)\n",
    "        X, y = _segment_data(signal, symbols, positions)\n",
    "        Xs.append(X)\n",
    "        ys.append(y)\n",
    "    os.makedirs(save_dir, exist_ok=True)\n",
    "    np.save(os.path.join(save_dir, \"x_\"+str(mode)+\".npy\"), np.vstack(Xs))\n",
    "    np.save(os.path.join(save_dir, \"y_\"+str(mode)+\".npy\"), np.concatenate(ys))\n",
    "\n",
    "dataset_root = \"data/mit\"\n",
    "download_dir = \"data/mit-bih-arrhythmia-database-1.0.0/\"\n",
    "\n",
    "preprocess_dataset(train_record_list, \"train\", dataset_root) \n",
    "preprocess_dataset(test_record_list, \"test\", dataset_root) "
   ]
  },
  {
   "cell_type": "code",
   "execution_count": 7,
   "metadata": {},
   "outputs": [],
   "source": [
    "test = np.load(\"data/mit/x_test.npy\")"
   ]
  },
  {
   "cell_type": "code",
   "execution_count": 10,
   "metadata": {},
   "outputs": [
    {
     "data": {
      "text/plain": [
       "array([ 0.83488281,  0.80900283,  0.75724288,  0.78312285,  0.75724288,\n",
       "        0.67960294,  0.65372296,  0.62784298,  0.70548292,  0.78312285,\n",
       "        0.67960294,  0.65372296,  0.601963  ,  0.65372296,  0.78312285,\n",
       "        0.88664277,  0.78312285,  0.601963  ,  0.52432307,  0.3690432 ,\n",
       "        0.42080316,  0.31728324,  0.29140326,  0.23964331,  0.16200337,\n",
       "        0.16200337,  0.16200337,  0.21376333,  0.26552328,  0.21376333,\n",
       "        0.16200337,  0.08436343,  0.08436343,  0.08436343,  0.08436343,\n",
       "        0.11024341,  0.05848346,  0.0067235 ,  0.11024341,  0.16200337,\n",
       "        0.16200337,  0.13612339,  0.11024341,  0.0067235 ,  0.08436343,\n",
       "        0.03260348,  0.13612339,  0.08436343,  0.03260348, -0.04503646,\n",
       "       -0.07091644, -0.14855637, -0.27795626, -0.40735616, -0.40735616,\n",
       "       -0.51087607, -0.76967586, -0.92495573, -0.92495573, -0.61439599,\n",
       "       -0.12267639,  0.44668313,  1.22308249,  2.20652167,  3.52640058,\n",
       "        4.79451952,  5.62267884,  5.93323858,  5.5450389 ,  4.27691995,\n",
       "        2.46532146,  0.7313629 , -0.30383624, -0.66615594, -0.61439599,\n",
       "       -0.32971622, -0.12267639, -0.09679642, -0.14855637, -0.20031633,\n",
       "       -0.12267639, -0.09679642, -0.04503646, -0.01915648, -0.07091644,\n",
       "       -0.14855637, -0.17443635, -0.09679642, -0.20031633, -0.14855637,\n",
       "       -0.12267639, -0.14855637, -0.12267639, -0.09679642, -0.12267639,\n",
       "       -0.12267639, -0.20031633, -0.25207629, -0.14855637, -0.09679642,\n",
       "        0.0067235 , -0.07091644, -0.07091644, -0.12267639, -0.17443635,\n",
       "       -0.14855637, -0.17443635, -0.20031633, -0.25207629, -0.25207629,\n",
       "       -0.17443635, -0.12267639, -0.12267639, -0.12267639, -0.17443635,\n",
       "       -0.22619631, -0.09679642, -0.09679642, -0.12267639, -0.12267639,\n",
       "       -0.14855637, -0.14855637, -0.17443635, -0.12267639, -0.17443635,\n",
       "       -0.22619631, -0.25207629, -0.22619631, -0.20031633, -0.12267639,\n",
       "       -0.07091644, -0.14855637, -0.12267639, -0.20031633, -0.12267639,\n",
       "       -0.14855637, -0.14855637, -0.20031633, -0.20031633, -0.25207629,\n",
       "       -0.17443635, -0.17443635, -0.14855637, -0.12267639, -0.22619631,\n",
       "       -0.22619631, -0.20031633, -0.14855637, -0.14855637, -0.14855637,\n",
       "       -0.22619631, -0.25207629, -0.25207629, -0.20031633, -0.20031633,\n",
       "       -0.14855637, -0.22619631, -0.27795626, -0.27795626, -0.27795626,\n",
       "       -0.30383624, -0.27795626, -0.32971622, -0.40735616, -0.32971622,\n",
       "       -0.27795626, -0.25207629, -0.27795626, -0.3555962 , -0.3555962 ,\n",
       "       -0.30383624, -0.30383624, -0.27795626, -0.27795626, -0.30383624,\n",
       "       -0.32971622, -0.25207629, -0.12267639, -0.09679642, -0.09679642,\n",
       "       -0.14855637, -0.17443635, -0.04503646,  0.03260348,  0.03260348,\n",
       "        0.08436343,  0.05848346,  0.08436343,  0.11024341,  0.16200337,\n",
       "        0.26552328,  0.29140326,  0.29140326,  0.21376333,  0.26552328,\n",
       "        0.31728324,  0.39492318,  0.31728324,  0.31728324,  0.26552328,\n",
       "        0.26552328,  0.34316322,  0.29140326,  0.26552328,  0.31728324,\n",
       "        0.26552328,  0.29140326,  0.29140326,  0.21376333,  0.23964331,\n",
       "        0.23964331,  0.21376333,  0.18788335,  0.21376333,  0.23964331,\n",
       "        0.16200337,  0.13612339,  0.08436343,  0.16200337,  0.18788335,\n",
       "        0.23964331,  0.13612339,  0.13612339,  0.11024341,  0.16200337,\n",
       "        0.16200337,  0.21376333,  0.18788335,  0.11024341,  0.08436343,\n",
       "        0.13612339,  0.16200337,  0.11024341,  0.13612339,  0.03260348,\n",
       "        0.03260348,  0.0067235 ,  0.05848346,  0.03260348, -0.01915648,\n",
       "       -0.01915648,  0.0067235 ,  0.05848346,  0.11024341,  0.11024341,\n",
       "        0.08436343,  0.05848346, -0.01915648,  0.08436343,  0.05848346,\n",
       "        0.03260348,  0.0067235 , -0.01915648, -0.09679642, -0.01915648,\n",
       "        0.03260348,  0.08436343, -0.01915648, -0.09679642, -0.12267639,\n",
       "       -0.04503646,  0.03260348,  0.0067235 , -0.01915648, -0.07091644,\n",
       "       -0.12267639, -0.09679642, -0.04503646, -0.01915648,  0.0067235 ,\n",
       "        0.0067235 , -0.01915648,  0.03260348,  0.0067235 ,  0.08436343,\n",
       "        0.03260348,  0.03260348,  0.0067235 ,  0.0067235 ,  0.08436343,\n",
       "        0.13612339,  0.05848346,  0.0067235 , -0.04503646,  0.0067235 ,\n",
       "        0.05848346,  0.08436343,  0.13612339,  0.18788335,  0.16200337,\n",
       "        0.16200337,  0.18788335,  0.29140326,  0.29140326,  0.26552328,\n",
       "        0.42080316,  0.44668313,  0.52432307,  0.55020305,  0.52432307,\n",
       "        0.47256311,  0.39492318,  0.44668313,  0.42080316,  0.42080316,\n",
       "        0.42080316,  0.39492318,  0.3690432 ,  0.34316322,  0.3690432 ,\n",
       "        0.44668313,  0.49844309,  0.52432307,  0.31728324,  0.11024341,\n",
       "        0.11024341,  0.03260348, -0.01915648, -0.12267639, -0.12267639,\n",
       "       -0.09679642, -0.04503646, -0.07091644, -0.04503646, -0.09679642,\n",
       "       -0.17443635, -0.20031633, -0.17443635, -0.17443635, -0.22619631,\n",
       "       -0.20031633, -0.25207629, -0.12267639, -0.14855637, -0.12267639,\n",
       "       -0.07091644, -0.20031633, -0.25207629, -0.17443635, -0.12267639,\n",
       "       -0.09679642, -0.12267639, -0.22619631, -0.30383624, -0.27795626,\n",
       "       -0.38147618, -0.61439599, -0.7179159 , -0.87319577, -1.05435562,\n",
       "       -1.18375551, -1.02847564, -0.56263603,  0.03260348,  0.75724288,\n",
       "        1.50776225,  2.80176118,  4.12164008,  5.31211909,  6.11439843,\n",
       "        6.45083815,  6.2696783 ,  5.49327894,  4.12164008,  2.43944148,\n",
       "        1.01604266,  0.18788335, -0.43323614, -0.74379588, -0.87319577,\n",
       "       -0.76967586, -0.61439599, -0.43323614, -0.43323614, -0.40735616,\n",
       "       -0.43323614, -0.38147618, -0.38147618, -0.38147618, -0.45911611,\n",
       "       -0.40735616, -0.40735616, -0.40735616, -0.3555962 , -0.45911611,\n",
       "       -0.53675605, -0.53675605, -0.48499609, -0.45911611, -0.43323614,\n",
       "       -0.51087607, -0.45911611, -0.40735616, -0.3555962 , -0.43323614,\n",
       "       -0.43323614, -0.51087607, -0.53675605, -0.53675605, -0.43323614,\n",
       "       -0.43323614, -0.45911611, -0.51087607, -0.56263603, -0.48499609,\n",
       "       -0.53675605, -0.51087607, -0.53675605, -0.56263603, -0.53675605,\n",
       "       -0.48499609, -0.48499609, -0.45911611, -0.43323614, -0.51087607,\n",
       "       -0.53675605, -0.43323614, -0.43323614, -0.40735616, -0.40735616,\n",
       "       -0.53675605, -0.51087607, -0.45911611, -0.43323614, -0.3555962 ,\n",
       "       -0.43323614, -0.45911611, -0.53675605, -0.48499609, -0.43323614,\n",
       "       -0.43323614, -0.40735616, -0.51087607, -0.56263603, -0.56263603,\n",
       "       -0.48499609, -0.45911611, -0.51087607, -0.56263603, -0.58851601,\n",
       "       -0.58851601, -0.53675605, -0.56263603, -0.61439599, -0.58851601,\n",
       "       -0.66615594, -0.64027596, -0.64027596, -0.58851601, -0.64027596,\n",
       "       -0.74379588, -0.76967586, -0.74379588, -0.66615594, -0.7179159 ,\n",
       "       -0.74379588, -0.76967586, -0.84731579, -0.79555584, -0.76967586,\n",
       "       -0.74379588, -0.76967586, -0.84731579, -0.87319577, -0.79555584,\n",
       "       -0.74379588, -0.7179159 , -0.69203592, -0.66615594, -0.69203592,\n",
       "       -0.53675605, -0.45911611, -0.32971622, -0.30383624, -0.27795626,\n",
       "       -0.30383624, -0.17443635, -0.09679642, -0.04503646, -0.07091644,\n",
       "       -0.12267639, -0.12267639, -0.07091644, -0.01915648,  0.03260348,\n",
       "        0.03260348, -0.07091644, -0.07091644, -0.04503646,  0.0067235 ,\n",
       "        0.0067235 ,  0.05848346, -0.07091644, -0.12267639,  0.0067235 ,\n",
       "       -0.01915648,  0.03260348,  0.03260348, -0.07091644, -0.09679642,\n",
       "       -0.01915648,  0.0067235 , -0.04503646,  0.0067235 , -0.04503646,\n",
       "       -0.04503646, -0.01915648,  0.05848346,  0.08436343,  0.0067235 ,\n",
       "       -0.01915648, -0.07091644, -0.04503646,  0.03260348, -0.04503646,\n",
       "       -0.04503646, -0.04503646, -0.12267639, -0.04503646, -0.07091644,\n",
       "       -0.04503646, -0.09679642, -0.14855637, -0.17443635, -0.14855637,\n",
       "       -0.14855637, -0.12267639, -0.09679642, -0.20031633, -0.22619631,\n",
       "       -0.20031633, -0.14855637, -0.12267639, -0.12267639, -0.20031633,\n",
       "       -0.20031633, -0.20031633, -0.07091644, -0.12267639, -0.14855637,\n",
       "       -0.17443635, -0.25207629, -0.14855637, -0.12267639, -0.12267639,\n",
       "       -0.14855637, -0.25207629, -0.27795626, -0.25207629, -0.22619631,\n",
       "       -0.17443635, -0.20031633, -0.20031633, -0.20031633, -0.20031633,\n",
       "       -0.12267639, -0.12267639, -0.14855637, -0.20031633, -0.22619631,\n",
       "       -0.22619631, -0.17443635, -0.12267639, -0.20031633, -0.20031633,\n",
       "       -0.25207629, -0.22619631, -0.17443635, -0.12267639, -0.17443635,\n",
       "       -0.17443635, -0.17443635, -0.12267639, -0.14855637, -0.12267639,\n",
       "       -0.14855637, -0.20031633, -0.20031633, -0.17443635, -0.12267639,\n",
       "       -0.04503646,  0.05848346,  0.03260348,  0.05848346,  0.11024341,\n",
       "        0.16200337,  0.21376333,  0.21376333,  0.21376333,  0.26552328,\n",
       "        0.29140326,  0.34316322,  0.42080316,  0.47256311,  0.34316322,\n",
       "        0.31728324,  0.34316322,  0.31728324,  0.3690432 ,  0.31728324,\n",
       "        0.29140326,  0.16200337,  0.16200337,  0.21376333,  0.29140326,\n",
       "        0.42080316,  0.44668313,  0.39492318,  0.21376333,  0.18788335,\n",
       "        0.13612339,  0.11024341,  0.0067235 , -0.07091644, -0.17443635,\n",
       "       -0.12267639, -0.14855637, -0.14855637, -0.25207629, -0.32971622,\n",
       "       -0.27795626, -0.20031633, -0.22619631, -0.25207629, -0.30383624,\n",
       "       -0.3555962 , -0.38147618, -0.32971622, -0.30383624, -0.30383624,\n",
       "       -0.38147618, -0.40735616, -0.38147618, -0.3555962 , -0.25207629,\n",
       "       -0.32971622, -0.43323614, -0.51087607, -0.53675605, -0.66615594,\n",
       "       -0.82143581, -0.95083571, -1.10611558, -1.28727543, -1.36491536,\n",
       "       -1.13199556, -0.51087607,  0.29140326,  1.11956258,  2.20652167,\n",
       "        3.70756043,  5.15683922,  6.16615839,  6.55435806,  5.98499854,\n",
       "        4.27691995,  1.84420197, -0.07091644, -1.00259566, -1.02847564,\n",
       "       -0.7179159 , -0.56263603, -0.45911611, -0.43323614, -0.45911611,\n",
       "       -0.43323614, -0.45911611, -0.51087607, -0.45911611, -0.51087607,\n",
       "       -0.43323614, -0.45911611, -0.45911611, -0.53675605, -0.51087607,\n",
       "       -0.48499609, -0.48499609, -0.56263603, -0.51087607, -0.58851601,\n",
       "       -0.56263603, -0.51087607, -0.51087607, -0.58851601, -0.58851601,\n",
       "       -0.66615594, -0.58851601, -0.53675605, -0.53675605, -0.51087607,\n",
       "       -0.61439599, -0.64027596, -0.58851601, -0.56263603, -0.53675605,\n",
       "       -0.53675605, -0.61439599, -0.58851601, -0.48499609, -0.45911611,\n",
       "       -0.48499609, -0.48499609, -0.45911611, -0.56263603, -0.51087607,\n",
       "       -0.43323614, -0.48499609, -0.48499609, -0.56263603, -0.61439599,\n",
       "       -0.61439599, -0.56263603, -0.56263603, -0.53675605, -0.61439599,\n",
       "       -0.61439599, -0.58851601, -0.56263603, -0.48499609, -0.48499609])"
      ]
     },
     "execution_count": 10,
     "metadata": {},
     "output_type": "execute_result"
    }
   ],
   "source": [
    "test[0]"
   ]
  },
  {
   "cell_type": "code",
   "execution_count": 9,
   "metadata": {},
   "outputs": [
    {
     "data": {
      "text/plain": [
       "[<matplotlib.lines.Line2D at 0x1f87fcac748>]"
      ]
     },
     "execution_count": 9,
     "metadata": {},
     "output_type": "execute_result"
    },
    {
     "data": {
      "image/png": "[encoded data removed]",
      "text/plain": [
       "<Figure size 432x288 with 1 Axes>"
      ]
     },
     "metadata": {
      "needs_background": "light"
     },
     "output_type": "display_data"
    }
   ],
   "source": [
    "plt.plot(test[0])"
   ]
  },
  {
   "cell_type": "code",
   "execution_count": 12,
   "metadata": {},
   "outputs": [
    {
     "data": {
      "text/plain": [
       "(720,)"
      ]
     },
     "execution_count": 12,
     "metadata": {},
     "output_type": "execute_result"
    }
   ],
   "source": [
    "test[0].shape"
   ]
  },
  {
   "cell_type": "code",
   "execution_count": 13,
   "metadata": {},
   "outputs": [],
   "source": [
    "y = np.load(\"data/mit/y_test.npy\")"
   ]
  },
  {
   "cell_type": "code",
   "execution_count": 14,
   "metadata": {},
   "outputs": [
    {
     "data": {
      "text/plain": [
       "0"
      ]
     },
     "execution_count": 14,
     "metadata": {},
     "output_type": "execute_result"
    }
   ],
   "source": [
    "y[0]"
   ]
  },
  {
   "cell_type": "code",
   "execution_count": null,
   "metadata": {},
   "outputs": [],
   "source": []
  }
 ],
 "metadata": {
  "kernelspec": {
   "display_name": "Python 3",
   "language": "python",
   "name": "python3"
  },
  "language_info": {
   "codemirror_mode": {
    "name": "ipython",
    "version": 3
   },
   "file_extension": ".py",
   "mimetype": "text/x-python",
   "name": "python",
   "nbconvert_exporter": "python",
   "pygments_lexer": "ipython3",
   "version": "3.7.3"
  }
 },
 "nbformat": 4,
 "nbformat_minor": 2
}
